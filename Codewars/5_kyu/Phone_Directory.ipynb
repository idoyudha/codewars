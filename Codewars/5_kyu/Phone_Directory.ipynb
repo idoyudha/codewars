{
 "metadata": {
  "language_info": {
   "codemirror_mode": {
    "name": "ipython",
    "version": 3
   },
   "file_extension": ".py",
   "mimetype": "text/x-python",
   "name": "python",
   "nbconvert_exporter": "python",
   "pygments_lexer": "ipython3",
   "version": "3.8.3"
  },
  "orig_nbformat": 2,
  "kernelspec": {
   "name": "python383jvsc74a57bd09cae76f3f4d5e4ed0213bda28ffb29e1648e7ceafedbd6152aab20f90c8a3d00",
   "display_name": "Python 3.8.3 64-bit ('base': conda)"
  }
 },
 "nbformat": 4,
 "nbformat_minor": 2,
 "cells": [
  {
   "cell_type": "code",
   "execution_count": 119,
   "metadata": {},
   "outputs": [],
   "source": [
    "def phone(strng, num):\n",
    "    # Initial value\n",
    "    data = None\n",
    "    phone = None\n",
    "    name = [] \n",
    "    address = ''\n",
    "    count = 0\n",
    "\n",
    "    list_phone = strng.split('\\n')\n",
    "\n",
    "    for string in list_phone:\n",
    "        if num in string:\n",
    "            count += 1\n",
    "            data = string.split(' ')\n",
    "\n",
    "    if data != None:\n",
    "        # print(data)\n",
    "        for var in data:\n",
    "            if '<' or '>' in var:\n",
    "                name.append(var) \n",
    "            elif '+' in var:\n",
    "                phone = var \n",
    "            else:\n",
    "                address += var\n",
    "    # Format return \n",
    "    if count == 0:\n",
    "        return f\"Error => Not found: {num}\"\n",
    "    elif count == 1:\n",
    "        return f\"Phone => {phone}, Name => {name[1:-1]}, Address => {address}\"\n",
    "    else:\n",
    "        return f\"Error => Too many people: {num}\"\n",
    "    # return data"
   ]
  },
  {
   "cell_type": "code",
   "execution_count": 120,
   "metadata": {},
   "outputs": [],
   "source": [
    "dr = (\"/+1-541-754-3010 156 Alphand_St. <J Steeve>\\n 133, Green, Rd. <E Kustur> NY-56423 ;+1-541-914-3010;\\n\"\n",
    "\"+1-541-984-3012 <P Reed> /PO Box 530; Pollocksville, NC-28573\\n :+1-321-512-2222 <Paul Dive> Sequoia Alley PQ-67209\\n\"\n",
    "\"+1-741-984-3090 <Peter Reedgrave> _Chicago\\n :+1-921-333-2222 <Anna Stevens> Haramburu_Street AA-67209\\n\"\n",
    "\"+1-111-544-8973 <Peter Pan> LA\\n +1-921-512-2222 <Wilfrid Stevens> Wild Street AA-67209\\n\"\n",
    "\"<Peter Gone> LA ?+1-121-544-8974 \\n <R Steell> Quora Street AB-47209 +1-481-512-2222!\\n\"\n",
    "\"<Arthur Clarke> San Antonio $+1-121-504-8974 TT-45120\\n <Ray Chandler> Teliman Pk. !+1-681-512-2222! AB-47209,\\n\"\n",
    "\"<Sophia Loren> +1-421-674-8974 Bern TP-46017\\n <Peter O'Brien> High Street +1-908-512-2222; CC-47209\\n\"\n",
    "\"<Anastasia> +48-421-674-8974 Via Quirinal Roma\\n <P Salinger> Main Street, +1-098-512-2222, Denver\\n\"\n",
    "\"<C Powel> *+19-421-674-8974 Chateau des Fosses Strasbourg F-68000\\n <Bernard Deltheil> +1-498-512-2222; Mount Av.  Eldorado\\n\"\n",
    "\"+1-099-500-8000 <Peter Crush> Labrador Bd.\\n +1-931-512-4855 <William Saurin> Bison Street CQ-23071\\n\"\n",
    "\"<P Salinge> Main Street, +1-098-512-2222, Denve\\n\")"
   ]
  },
  {
   "cell_type": "code",
   "execution_count": 121,
   "metadata": {
    "tags": []
   },
   "outputs": [
    {
     "output_type": "stream",
     "name": "stdout",
     "text": [
      "['<Anastasia>', '+48-421-674-8974', 'Via', 'Quirinal', 'Roma']\n['', '+1-921-512-2222', '<Wilfrid', 'Stevens>', 'Wild', 'Street', 'AA-67209']\n['', '<Peter', \"O'Brien>\", 'High', 'Street', '+1-908-512-2222;', 'CC-47209']\n['/+1-541-754-3010', '156', 'Alphand_St.', '<J', 'Steeve>']\n['<Arthur', 'Clarke>', 'San', 'Antonio', '$+1-121-504-8974', 'TT-45120']\n['', '<Bernard', 'Deltheil>', '+1-498-512-2222;', 'Mount', 'Av.', '', 'Eldorado']\n['<P', 'Salinge>', 'Main', 'Street,', '+1-098-512-2222,', 'Denve']\n"
     ]
    }
   ],
   "source": [
    "phone(dr, \"48-421-674-8974\") # \"Phone => 48-421-674-8974, Name => Anastasia, Address => Via Quirinal Roma\"\n",
    "phone(dr, \"1-921-512-2222\") # \"Phone => 1-921-512-2222, Name => Wilfrid Stevens, Address => Wild Street AA-67209\"\n",
    "phone(dr, \"1-908-512-2222\") # \"Phone => 1-908-512-2222, Name => Peter O'Brien, Address => High Street CC-47209\"\n",
    "phone(dr, \"1-541-754-3010\") # \"Phone => 1-541-754-3010, Name => J Steeve, Address => 156 Alphand St.\"\n",
    "phone(dr, \"1-121-504-8974\") # \"Phone => 1-121-504-8974, Name => Arthur Clarke, Address => San Antonio TT-45120\"\n",
    "phone(dr, \"1-498-512-2222\") # \"Phone => 1-498-512-2222, Name => Bernard Deltheil, Address => Mount Av. Eldorado\"\n",
    "phone(dr, \"1-098-512-2222\") # \"Error => Too many people: 1-098-512-2222\"\n",
    "phone(dr, \"5-555-555-5555\") # \"Error => Not found: 5-555-555-5555\""
   ]
  },
  {
   "cell_type": "code",
   "execution_count": 122,
   "metadata": {
    "tags": []
   },
   "outputs": [
    {
     "output_type": "stream",
     "name": "stdout",
     "text": [
      "['<Anastasia>', '+48-421-674-8974', 'Via', 'Quirinal', 'Roma']\n"
     ]
    },
    {
     "output_type": "execute_result",
     "data": {
      "text/plain": [
       "['<Anastasia>', '+48-421-674-8974', 'Via', 'Quirinal', 'Roma']"
      ]
     },
     "metadata": {},
     "execution_count": 122
    }
   ],
   "source": [
    "phone(dr, \"48-421-674-8974\") # \"Phone => 48-421-674-8974, Name => Anastasia, Address => Via Quirinal Roma\""
   ]
  },
  {
   "cell_type": "code",
   "execution_count": 123,
   "metadata": {},
   "outputs": [
    {
     "output_type": "stream",
     "name": "stdout",
     "text": [
      "['', '+1-921-512-2222', '<Wilfrid', 'Stevens>', 'Wild', 'Street', 'AA-67209']\n"
     ]
    },
    {
     "output_type": "execute_result",
     "data": {
      "text/plain": [
       "['', '+1-921-512-2222', '<Wilfrid', 'Stevens>', 'Wild', 'Street', 'AA-67209']"
      ]
     },
     "metadata": {},
     "execution_count": 123
    }
   ],
   "source": [
    "phone(dr, \"1-921-512-2222\") # \"Phone => 1-921-512-2222, Name => Wilfrid Stevens, Address => Wild Street AA-67209\""
   ]
  },
  {
   "cell_type": "code",
   "execution_count": 92,
   "metadata": {},
   "outputs": [
    {
     "output_type": "execute_result",
     "data": {
      "text/plain": [
       "\"Phone => None, Name => PeterO'Brien>HighStreet+1-908-512-2222;CC-4720, Address => \""
      ]
     },
     "metadata": {},
     "execution_count": 92
    }
   ],
   "source": [
    "phone(dr, \"1-908-512-2222\") # \"Phone => 1-908-512-2222, Name => Peter O'Brien, Address => High Street CC-47209\""
   ]
  },
  {
   "cell_type": "code",
   "execution_count": 93,
   "metadata": {},
   "outputs": [
    {
     "output_type": "execute_result",
     "data": {
      "text/plain": [
       "'Phone => None, Name => +1-541-754-3010156Alphand_St.<JSteeve, Address => '"
      ]
     },
     "metadata": {},
     "execution_count": 93
    }
   ],
   "source": [
    "phone(dr, \"1-541-754-3010\") # \"Phone => 1-541-754-3010, Name => J Steeve, Address => 156 Alphand St.\""
   ]
  },
  {
   "cell_type": "code",
   "execution_count": 94,
   "metadata": {},
   "outputs": [
    {
     "output_type": "execute_result",
     "data": {
      "text/plain": [
       "'Phone => None, Name => ArthurClarke>SanAntonio$+1-121-504-8974TT-4512, Address => '"
      ]
     },
     "metadata": {},
     "execution_count": 94
    }
   ],
   "source": [
    "phone(dr, \"1-121-504-8974\") # \"Phone => 1-121-504-8974, Name => Arthur Clarke, Address => San Antonio TT-45120\""
   ]
  },
  {
   "cell_type": "code",
   "execution_count": 95,
   "metadata": {},
   "outputs": [
    {
     "output_type": "execute_result",
     "data": {
      "text/plain": [
       "'Phone => None, Name => BernardDeltheil>+1-498-512-2222;MountAv.Eldorad, Address => '"
      ]
     },
     "metadata": {},
     "execution_count": 95
    }
   ],
   "source": [
    "phone(dr, \"1-498-512-2222\") # \"Phone => 1-498-512-2222, Name => Bernard Deltheil, Address => Mount Av. Eldorado\""
   ]
  },
  {
   "cell_type": "code",
   "execution_count": 96,
   "metadata": {},
   "outputs": [
    {
     "output_type": "execute_result",
     "data": {
      "text/plain": [
       "'Error => Too many people: 1-098-512-2222'"
      ]
     },
     "metadata": {},
     "execution_count": 96
    }
   ],
   "source": [
    "phone(dr, \"1-098-512-2222\") # \"Error => Too many people: 1-098-512-2222\""
   ]
  },
  {
   "cell_type": "code",
   "execution_count": 97,
   "metadata": {},
   "outputs": [
    {
     "output_type": "execute_result",
     "data": {
      "text/plain": [
       "'Error => Not found: 5-555-555-5555'"
      ]
     },
     "metadata": {},
     "execution_count": 97
    }
   ],
   "source": [
    "phone(dr, \"5-555-555-5555\") # \"Error => Not found: 5-555-555-5555\""
   ]
  },
  {
   "cell_type": "code",
   "execution_count": 124,
   "metadata": {},
   "outputs": [],
   "source": [
    "x = ['<Anastasia>', '+48-421-674-8974', 'Via', 'Quirinal', 'Roma']"
   ]
  },
  {
   "cell_type": "code",
   "execution_count": 125,
   "metadata": {},
   "outputs": [
    {
     "output_type": "stream",
     "name": "stdout",
     "text": [
      "['<Anastasia>', '+48-421-674-8974', 'Via', 'Quirinal', 'Roma']\n['<Anastasia>', '+48-421-674-8974', 'Via', 'Quirinal', 'Roma']\n['<Anastasia>', '+48-421-674-8974', 'Via', 'Quirinal', 'Roma']\n['<Anastasia>', '+48-421-674-8974', 'Via', 'Quirinal', 'Roma']\n['<Anastasia>', '+48-421-674-8974', 'Via', 'Quirinal', 'Roma']\n"
     ]
    }
   ],
   "source": [
    "for n in x:\n",
    "    print(x)"
   ]
  },
  {
   "cell_type": "code",
   "execution_count": null,
   "metadata": {},
   "outputs": [],
   "source": []
  }
 ]
}