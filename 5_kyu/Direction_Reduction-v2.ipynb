{
 "metadata": {
  "language_info": {
   "codemirror_mode": {
    "name": "ipython",
    "version": 3
   },
   "file_extension": ".py",
   "mimetype": "text/x-python",
   "name": "python",
   "nbconvert_exporter": "python",
   "pygments_lexer": "ipython3",
   "version": "3.8.3"
  },
  "orig_nbformat": 2,
  "kernelspec": {
   "name": "python383jvsc74a57bd09cae76f3f4d5e4ed0213bda28ffb29e1648e7ceafedbd6152aab20f90c8a3d00",
   "display_name": "Python 3.8.3 64-bit ('base': conda)"
  }
 },
 "nbformat": 4,
 "nbformat_minor": 2,
 "cells": [
  {
   "cell_type": "code",
   "execution_count": 139,
   "metadata": {},
   "outputs": [],
   "source": [
    "def dirReduc(arr):\n",
    "    \"\"\"\n",
    "    Find if the next data is the opposite or not. If opposite then delete the current and next data. Do this in looping.\n",
    "    \"\"\"\n",
    "    opposite = [[\"NORTH\", \"SOUTH\"], [\"SOUTH\", \"NORTH\"], [\"EAST\", \"WEST\"], [\"WEST\", \"EAST\"]]\n",
    "    count = 0\n",
    "    temp = arr\n",
    "    try:\n",
    "        data = [temp[count], temp[count+1]]\n",
    "        while data in opposite:\n",
    "            # print(data)\n",
    "            if data in opposite:\n",
    "                # print(temp[count], temp[count+1])\n",
    "                temp.pop(count)\n",
    "            count += 1\n",
    "    except IndexError:\n",
    "        pass\n",
    "    return temp"
   ]
  },
  {
   "cell_type": "code",
   "execution_count": 140,
   "metadata": {},
   "outputs": [],
   "source": [
    "a = [\"NORTH\", \"SOUTH\", \"SOUTH\", \"EAST\", \"WEST\", \"NORTH\", \"WEST\"] # ->  [\"NORTH\"]\n",
    "b = [\"NORTH\", \"EAST\", \"SOUTH\", \"WEST\"] # -> should same output"
   ]
  },
  {
   "cell_type": "code",
   "execution_count": 141,
   "metadata": {},
   "outputs": [
    {
     "output_type": "execute_result",
     "data": {
      "text/plain": [
       "['SOUTH', 'SOUTH', 'EAST', 'WEST', 'NORTH', 'WEST']"
      ]
     },
     "metadata": {},
     "execution_count": 141
    }
   ],
   "source": [
    "dirReduc(a)"
   ]
  },
  {
   "cell_type": "code",
   "execution_count": 138,
   "metadata": {},
   "outputs": [
    {
     "output_type": "execute_result",
     "data": {
      "text/plain": [
       "['NORTH', 'EAST', 'SOUTH', 'WEST']"
      ]
     },
     "metadata": {},
     "execution_count": 138
    }
   ],
   "source": [
    "dirReduc(b)"
   ]
  },
  {
   "cell_type": "code",
   "execution_count": null,
   "metadata": {},
   "outputs": [],
   "source": []
  }
 ]
}