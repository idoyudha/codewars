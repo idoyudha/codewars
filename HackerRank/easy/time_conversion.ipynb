{
 "cells": [
  {
   "cell_type": "code",
   "execution_count": 39,
   "source": [
    "def gradingStudents(grades):\r\n",
    "    # Write your code here\r\n",
    "    listn = []\r\n",
    "    for number in grades:\r\n",
    "        if number % 5 >= 3 and number >= 38:\r\n",
    "            number += 5 - (number % 5)\r\n",
    "            listn.append(number)\r\n",
    "        else:\r\n",
    "            listn.append(number)\r\n",
    "    return listn"
   ],
   "outputs": [],
   "metadata": {}
  },
  {
   "cell_type": "code",
   "execution_count": 40,
   "source": [
    "gradingStudents(39)"
   ],
   "outputs": [],
   "metadata": {}
  },
  {
   "cell_type": "code",
   "execution_count": 15,
   "source": [
    "list5 = [x for x in range(5,101,5)]"
   ],
   "outputs": [],
   "metadata": {}
  },
  {
   "cell_type": "code",
   "execution_count": 45,
   "source": [
    "grades = 38\r\n",
    "if grades % 5 >= 3 and grades > 38:\r\n",
    "    grades += 5 - (grades % 5)\r\n",
    "print(grades % 5 >= 3, grades > 38)\r\n"
   ],
   "outputs": [
    {
     "output_type": "stream",
     "name": "stdout",
     "text": [
      "True False\n"
     ]
    }
   ],
   "metadata": {}
  },
  {
   "cell_type": "code",
   "execution_count": 44,
   "source": [
    "print(grades)"
   ],
   "outputs": [
    {
     "output_type": "stream",
     "name": "stdout",
     "text": [
      "39\n"
     ]
    }
   ],
   "metadata": {}
  },
  {
   "cell_type": "code",
   "execution_count": null,
   "source": [],
   "outputs": [],
   "metadata": {}
  }
 ],
 "metadata": {
  "orig_nbformat": 4,
  "language_info": {
   "name": "python"
  }
 },
 "nbformat": 4,
 "nbformat_minor": 2
}