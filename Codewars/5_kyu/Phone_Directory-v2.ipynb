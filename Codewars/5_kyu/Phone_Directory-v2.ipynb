{
 "metadata": {
  "language_info": {
   "codemirror_mode": {
    "name": "ipython",
    "version": 3
   },
   "file_extension": ".py",
   "mimetype": "text/x-python",
   "name": "python",
   "nbconvert_exporter": "python",
   "pygments_lexer": "ipython3",
   "version": 3
  },
  "orig_nbformat": 2
 },
 "nbformat": 4,
 "nbformat_minor": 2,
 "cells": [
  {
   "cell_type": "code",
   "execution_count": null,
   "metadata": {},
   "outputs": [],
   "source": [
    "def phone(strng, num):\n",
    "    cnt = strng.count(num)\n",
    "    if cnt == 0:\n",
    "        return \"Error => Not found: \" + num\n",
    "    elif cnt > 1:\n",
    "        return \"Error => Too many people: \" + num\n",
    "\n",
    "    contacts = strng.split(\"\\n\")\n",
    "    for contact in contacts:\n",
    "        if num in contact:\n",
    "            name = contact[contact.index(\"<\")+1:contact.index(\">\")]\n",
    "            contact = contact.replace(num, \"\").replace(name, \"\")\n",
    "            for c in \"/:!<>+;_$*?,\":\n",
    "                contact = contact.replace(c, \" \")\n",
    "            address = \" \".join(contact.split())\n",
    "    return \"Phone => {}, Name => {}, Address => {}\".format(num, name, address)"
   ]
  }
 ]
}