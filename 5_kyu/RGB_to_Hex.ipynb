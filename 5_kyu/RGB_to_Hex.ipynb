{
 "metadata": {
  "language_info": {
   "codemirror_mode": {
    "name": "ipython",
    "version": 3
   },
   "file_extension": ".py",
   "mimetype": "text/x-python",
   "name": "python",
   "nbconvert_exporter": "python",
   "pygments_lexer": "ipython3",
   "version": "3.8.3"
  },
  "orig_nbformat": 2,
  "kernelspec": {
   "name": "python383jvsc74a57bd09cae76f3f4d5e4ed0213bda28ffb29e1648e7ceafedbd6152aab20f90c8a3d00",
   "display_name": "Python 3.8.3 64-bit ('base': conda)"
  }
 },
 "nbformat": 4,
 "nbformat_minor": 2,
 "cells": [
  {
   "cell_type": "code",
   "execution_count": 65,
   "metadata": {},
   "outputs": [],
   "source": [
    "def rgb(r, g, b):\n",
    "    #your code here :)\n",
    "    hex = ['0','1','2','3','4','5','6','7','8','9','A','B','C','D','E','F']\n",
    "    def count_first(num):\n",
    "        if num > 255:\n",
    "            return 15\n",
    "        elif num < 0:\n",
    "            return 0\n",
    "        first_word = num // 16\n",
    "        return first_word\n",
    "\n",
    "    def count_second(num):\n",
    "        if num > 255:\n",
    "            return 15\n",
    "        elif num < 0:\n",
    "            return 0\n",
    "        second_word = num % 16\n",
    "        return second_word\n",
    "\n",
    "    red = hex[count_first(r)] + hex[count_second(r)]\n",
    "    green = hex[count_first(g)] + hex[count_second(g)]\n",
    "    blue = hex[count_first(b)] + hex[count_second(b)]\n",
    "    return red + green + blue"
   ]
  },
  {
   "cell_type": "code",
   "execution_count": 66,
   "metadata": {},
   "outputs": [
    {
     "output_type": "execute_result",
     "data": {
      "text/plain": [
       "'FFFFFF'"
      ]
     },
     "metadata": {},
     "execution_count": 66
    }
   ],
   "source": [
    "rgb(255, 255, 255) # returns FFFFFF"
   ]
  },
  {
   "cell_type": "code",
   "execution_count": 67,
   "metadata": {},
   "outputs": [
    {
     "output_type": "execute_result",
     "data": {
      "text/plain": [
       "'000000'"
      ]
     },
     "metadata": {},
     "execution_count": 67
    }
   ],
   "source": [
    "rgb(0,0,0)"
   ]
  },
  {
   "cell_type": "code",
   "execution_count": 68,
   "metadata": {},
   "outputs": [
    {
     "output_type": "execute_result",
     "data": {
      "text/plain": [
       "'9400D3'"
      ]
     },
     "metadata": {},
     "execution_count": 68
    }
   ],
   "source": [
    "rgb(148, 0, 211)"
   ]
  },
  {
   "cell_type": "code",
   "execution_count": 69,
   "metadata": {},
   "outputs": [
    {
     "output_type": "execute_result",
     "data": {
      "text/plain": [
       "'FFFFFF'"
      ]
     },
     "metadata": {},
     "execution_count": 69
    }
   ],
   "source": [
    "rgb(255, 255, 300)"
   ]
  },
  {
   "cell_type": "code",
   "execution_count": null,
   "metadata": {},
   "outputs": [],
   "source": []
  }
 ]
}