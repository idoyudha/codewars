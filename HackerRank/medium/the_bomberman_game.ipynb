{
 "cells": [
  {
   "cell_type": "code",
   "execution_count": 40,
   "source": [
    "def bomberMan(n, grid):\r\n",
    "    # Write your code here\r\n",
    "    tmp = grid.copy()\r\n",
    "    bom_coordinate = []\r\n",
    "    index_x = 0\r\n",
    "    for x in tmp:\r\n",
    "        index_y = 0\r\n",
    "        for y in x:\r\n",
    "            if y == 'O':\r\n",
    "                bom_coordinate.append((index_x,index_y))\r\n",
    "            index_y += 1\r\n",
    "        tmp[index_x]= 'O' * index_y\r\n",
    "        index_x += 1\r\n",
    "    \r\n",
    "    return bom_coordinate, tmp"
   ],
   "outputs": [],
   "metadata": {}
  },
  {
   "cell_type": "code",
   "execution_count": 41,
   "source": [
    "n1 = 3 \r\n",
    "grid1 = ['.......', '...O...', '....O..', '.......', 'OO.....', 'OO.....'] \r\n",
    "bomberMan(n1, grid1)"
   ],
   "outputs": [
    {
     "output_type": "execute_result",
     "data": {
      "text/plain": [
       "([(1, 3), (2, 4), (4, 0), (4, 1), (5, 0), (5, 1)],\n",
       " ['XXXXXXX', 'XXXXXXX', 'XXXXXXX', 'XXXXXXX', 'XXXXXXX', 'XXXXXXX'])"
      ]
     },
     "metadata": {},
     "execution_count": 41
    }
   ],
   "metadata": {}
  },
  {
   "cell_type": "code",
   "execution_count": null,
   "source": [],
   "outputs": [],
   "metadata": {}
  }
 ],
 "metadata": {
  "orig_nbformat": 4,
  "language_info": {
   "name": "python"
  }
 },
 "nbformat": 4,
 "nbformat_minor": 2
}