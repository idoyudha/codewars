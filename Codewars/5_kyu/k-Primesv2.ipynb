{
 "metadata": {
  "language_info": {
   "codemirror_mode": {
    "name": "ipython",
    "version": 3
   },
   "file_extension": ".py",
   "mimetype": "text/x-python",
   "name": "python",
   "nbconvert_exporter": "python",
   "pygments_lexer": "ipython3",
   "version": "3.8.3"
  },
  "orig_nbformat": 2,
  "kernelspec": {
   "name": "python383jvsc74a57bd09cae76f3f4d5e4ed0213bda28ffb29e1648e7ceafedbd6152aab20f90c8a3d00",
   "display_name": "Python 3.8.3 64-bit ('base': conda)"
  }
 },
 "nbformat": 4,
 "nbformat_minor": 2,
 "cells": [
  {
   "cell_type": "code",
   "execution_count": 3,
   "metadata": {},
   "outputs": [],
   "source": [
    "def is_prime(number):\n",
    "    \"\"\"\n",
    "    Check if number is prime\n",
    "    \"\"\"\n",
    "    if number == 2:\n",
    "        return True\n",
    "    prime = True\n",
    "    for x in range(2,number):\n",
    "        if number % x == 0:\n",
    "            prime = False\n",
    "            break\n",
    "    return prime\n",
    "\n",
    "def all_factor(k, number):\n",
    "    \"\"\"\n",
    "    Check all factor from number\n",
    "    \"\"\"\n",
    "    list_factor = []\n",
    "    current = number\n",
    "    factor = 2\n",
    "    count = 0\n",
    "    while is_prime(current) is False:\n",
    "        if current % factor != 0:\n",
    "            factor += 1\n",
    "        else:\n",
    "            current = current // factor\n",
    "            list_factor.append(factor)\n",
    "            count += 1\n",
    "            if count == (k-1):\n",
    "                break\n",
    "    list_factor.append(current)\n",
    "    return list_factor\n",
    "\n",
    "def count_Kprimes(k, start, nd):\n",
    "    \"\"\"\n",
    "    Print number sequence number of factor is same with k\n",
    "    \"\"\"\n",
    "    prime_factor = []\n",
    "    for num in range(start, nd+1):\n",
    "        if len(all_factor(k, num)) == k:\n",
    "            prime_factor.append(num)\n",
    "    return prime_factor   "
   ]
  },
  {
   "cell_type": "code",
   "execution_count": 4,
   "metadata": {},
   "outputs": [
    {
     "output_type": "execute_result",
     "data": {
      "text/plain": [
       "[520, 552, 567, 592, 594]"
      ]
     },
     "metadata": {},
     "execution_count": 4
    }
   ],
   "source": [
    "count_Kprimes(5, 500, 600)\n",
    "# [500, 520, 552, 567, 588, 592, 594]"
   ]
  },
  {
   "cell_type": "code",
   "execution_count": 5,
   "metadata": {},
   "outputs": [
    {
     "output_type": "execute_result",
     "data": {
      "text/plain": [
       "False"
      ]
     },
     "metadata": {},
     "execution_count": 5
    }
   ],
   "source": [
    "is_prime(21)"
   ]
  },
  {
   "cell_type": "code",
   "execution_count": 20,
   "metadata": {},
   "outputs": [
    {
     "output_type": "stream",
     "name": "stdout",
     "text": [
      "Find all factors: 0.0\n"
     ]
    }
   ],
   "source": [
    "import time\n",
    "def sum_of_n_numbers(n):\n",
    "    start_time = time.time()\n",
    "    is_prime(n)\n",
    "    end_time = time.time()\n",
    "    return end_time-start_time\n",
    "\n",
    "print(\"Find all factors:\",sum_of_n_numbers(10000000))"
   ]
  },
  {
   "cell_type": "code",
   "execution_count": null,
   "metadata": {},
   "outputs": [],
   "source": []
  }
 ]
}