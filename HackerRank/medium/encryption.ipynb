{
 "cells": [
  {
   "cell_type": "code",
   "execution_count": 52,
   "source": [
    "import math\r\n",
    "def encryption(s):\r\n",
    "    square_root = len(s) ** (1/2)\r\n",
    "    row = math.floor(square_root)\r\n",
    "    column = math.ceil(square_root)\r\n",
    "    if row * column < len(s):\r\n",
    "        row = column\r\n",
    "    words = []\r\n",
    "    start = 0\r\n",
    "    end = column\r\n",
    "    for x in range(row):\r\n",
    "        words.append(s[start: end])\r\n",
    "        start += column\r\n",
    "        end += column\r\n",
    "    output = []\r\n",
    "    index = 0\r\n",
    "    for i in range(column):\r\n",
    "        string = ''\r\n",
    "        for x in words:\r\n",
    "            try:\r\n",
    "                string += x[index]\r\n",
    "            except IndexError:\r\n",
    "                pass\r\n",
    "        index += 1\r\n",
    "        output.append(string)\r\n",
    "\r\n",
    "    return \" \".join(output)"
   ],
   "outputs": [],
   "metadata": {}
  },
  {
   "cell_type": "code",
   "execution_count": 55,
   "source": [
    "encryption('haveaniceday')"
   ],
   "outputs": [
    {
     "output_type": "execute_result",
     "data": {
      "text/plain": [
       "'hae and via ecy'"
      ]
     },
     "metadata": {},
     "execution_count": 55
    }
   ],
   "metadata": {}
  },
  {
   "cell_type": "code",
   "execution_count": 56,
   "source": [
    "encryption('feedthedog')"
   ],
   "outputs": [
    {
     "output_type": "execute_result",
     "data": {
      "text/plain": [
       "'fto ehg ee dd'"
      ]
     },
     "metadata": {},
     "execution_count": 56
    }
   ],
   "metadata": {}
  },
  {
   "cell_type": "code",
   "execution_count": 57,
   "source": [
    "encryption('chillout')"
   ],
   "outputs": [
    {
     "output_type": "execute_result",
     "data": {
      "text/plain": [
       "'cl hl io'"
      ]
     },
     "metadata": {},
     "execution_count": 57
    }
   ],
   "metadata": {}
  },
  {
   "cell_type": "code",
   "execution_count": 63,
   "source": [
    "s = 'chillout'\r\n",
    "square_root = len(s) ** (1/2)\r\n",
    "row = math.floor(square_root)\r\n",
    "column = math.ceil(square_root)\r\n",
    "if row * column < len(s):\r\n",
    "    row = column\r\n",
    "print(column, row)\r\n",
    "words = []\r\n",
    "start = 0\r\n",
    "end = column\r\n",
    "for x in range(row):\r\n",
    "    words.append(s[start: end])\r\n",
    "    start += column\r\n",
    "    end += column\r\n",
    "output = []\r\n",
    "index = 0\r\n",
    "for i in range(column):\r\n",
    "    string = ''\r\n",
    "    for x in words:\r\n",
    "        # print(x[index])\r\n",
    "        try:\r\n",
    "            print(x[index])\r\n",
    "            string += x[index]\r\n",
    "        except IndexError:\r\n",
    "            pass\r\n",
    "    index += 1\r\n",
    "    print(string)\r\n",
    "    output.append(string)\r\n",
    "print(output)\r\n"
   ],
   "outputs": [
    {
     "output_type": "stream",
     "name": "stdout",
     "text": [
      "3 3\n",
      "c\n",
      "l\n",
      "u\n",
      "clu\n",
      "h\n",
      "l\n",
      "t\n",
      "hlt\n",
      "i\n",
      "o\n",
      "io\n",
      "['clu', 'hlt', 'io']\n"
     ]
    }
   ],
   "metadata": {}
  },
  {
   "cell_type": "code",
   "execution_count": null,
   "source": [],
   "outputs": [],
   "metadata": {}
  }
 ],
 "metadata": {
  "orig_nbformat": 4,
  "language_info": {
   "name": "python"
  }
 },
 "nbformat": 4,
 "nbformat_minor": 2
}