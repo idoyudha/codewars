{
 "cells": [
  {
   "cell_type": "code",
   "execution_count": 39,
   "metadata": {},
   "outputs": [],
   "source": [
    "def gradingStudents(grades):\n",
    "    # Write your code here\n",
    "    listn = []\n",
    "    for number in grades:\n",
    "        if number % 5 >= 3 and number >= 38:\n",
    "            number += 5 - (number % 5)\n",
    "            listn.append(number)\n",
    "        else:\n",
    "            listn.append(number)\n",
    "    return listn"
   ]
  },
  {
   "cell_type": "code",
   "execution_count": 40,
   "metadata": {},
   "outputs": [],
   "source": [
    "gradingStudents(39)"
   ]
  },
  {
   "cell_type": "code",
   "execution_count": 15,
   "metadata": {},
   "outputs": [],
   "source": [
    "list5 = [x for x in range(5,101,5)]"
   ]
  },
  {
   "cell_type": "code",
   "execution_count": 45,
   "metadata": {},
   "outputs": [
    {
     "name": "stdout",
     "output_type": "stream",
     "text": [
      "True False\n"
     ]
    }
   ],
   "source": [
    "grades = 38\n",
    "if grades % 5 >= 3 and grades > 38:\n",
    "    grades += 5 - (grades % 5)\n",
    "print(grades % 5 >= 3, grades > 38)\n"
   ]
  },
  {
   "cell_type": "code",
   "execution_count": 44,
   "metadata": {},
   "outputs": [
    {
     "name": "stdout",
     "output_type": "stream",
     "text": [
      "39\n"
     ]
    }
   ],
   "source": [
    "print(grades)"
   ]
  },
  {
   "cell_type": "code",
   "execution_count": null,
   "metadata": {},
   "outputs": [],
   "source": []
  }
 ],
 "metadata": {
  "kernelspec": {
   "display_name": "Python 3.9.13 64-bit (windows store)",
   "language": "python",
   "name": "python3"
  },
  "language_info": {
   "name": "python",
   "version": "3.9.13"
  },
  "orig_nbformat": 4,
  "vscode": {
   "interpreter": {
    "hash": "7a7bf055caa4c3a00d3bca9c51bbb94dac766f951d23e52f43eb38c22e2c3975"
   }
  }
 },
 "nbformat": 4,
 "nbformat_minor": 2
}
