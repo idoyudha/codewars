{
 "metadata": {
  "language_info": {
   "codemirror_mode": {
    "name": "ipython",
    "version": 3
   },
   "file_extension": ".py",
   "mimetype": "text/x-python",
   "name": "python",
   "nbconvert_exporter": "python",
   "pygments_lexer": "ipython3",
   "version": "3.8.3"
  },
  "orig_nbformat": 2,
  "kernelspec": {
   "name": "python383jvsc74a57bd09cae76f3f4d5e4ed0213bda28ffb29e1648e7ceafedbd6152aab20f90c8a3d00",
   "display_name": "Python 3.8.3 64-bit ('base': conda)"
  }
 },
 "nbformat": 4,
 "nbformat_minor": 2,
 "cells": [
  {
   "cell_type": "code",
   "execution_count": 84,
   "metadata": {},
   "outputs": [],
   "source": [
    "def prime(n):\n",
    "    prime_list = []\n",
    "    for number in range(2, n+1):\n",
    "        div_num = 0\n",
    "        for divisor in range(2, number+1):\n",
    "            if number % divisor == 0:\n",
    "                div_num += 1\n",
    "        if div_num == 1:\n",
    "            prime_list.append(number)\n",
    "    return prime_list\n",
    "    # completed in 0.32 ms\n",
    "    # Test Result: Execution Timed Out (12000 ms)"
   ]
  },
  {
   "cell_type": "code",
   "execution_count": 85,
   "metadata": {},
   "outputs": [
    {
     "output_type": "execute_result",
     "data": {
      "text/plain": [
       "[2, 3, 5, 7, 11]"
      ]
     },
     "metadata": {},
     "execution_count": 85
    }
   ],
   "source": [
    "prime(11)"
   ]
  },
  {
   "cell_type": "code",
   "execution_count": 88,
   "metadata": {},
   "outputs": [],
   "source": [
    "def primes_method2(n):\n",
    "    out = list()\n",
    "    for num in range(1, n+1):\n",
    "        if all(num % i != 0 for i in range(2, num)):\n",
    "            out.append(num)\n",
    "    return out[1:]"
   ]
  },
  {
   "cell_type": "code",
   "execution_count": 89,
   "metadata": {},
   "outputs": [
    {
     "output_type": "execute_result",
     "data": {
      "text/plain": [
       "[2, 3, 5, 7, 11]"
      ]
     },
     "metadata": {},
     "execution_count": 89
    }
   ],
   "source": [
    "primes_method2(11)"
   ]
  },
  {
   "cell_type": "code",
   "execution_count": 92,
   "metadata": {},
   "outputs": [],
   "source": [
    "def primes_method3(n):\n",
    "    out = list()\n",
    "    for num in range(1, n+1):\n",
    "        if all(num % i != 0 for i in range(2, int(num**.5 ) + 1)):\n",
    "            out.append(num)\n",
    "    return out[1:]"
   ]
  },
  {
   "cell_type": "code",
   "execution_count": 93,
   "metadata": {},
   "outputs": [
    {
     "output_type": "execute_result",
     "data": {
      "text/plain": [
       "[2, 3, 5, 7, 11]"
      ]
     },
     "metadata": {},
     "execution_count": 93
    }
   ],
   "source": [
    "primes_method3(11)"
   ]
  },
  {
   "cell_type": "code",
   "execution_count": 94,
   "metadata": {},
   "outputs": [],
   "source": [
    "def primes_method4(n):\n",
    "    out = list()\n",
    "    out.append(2)\n",
    "    for num in range(3, n+1, 2):\n",
    "        if all(num % i != 0 for i in range(2, int(num**.5 ) + 1)):\n",
    "            out.append(num)\n",
    "    return out"
   ]
  },
  {
   "cell_type": "code",
   "execution_count": 95,
   "metadata": {},
   "outputs": [
    {
     "output_type": "execute_result",
     "data": {
      "text/plain": [
       "[2, 3, 5, 7, 11]"
      ]
     },
     "metadata": {},
     "execution_count": 95
    }
   ],
   "source": [
    "primes_method4(11)"
   ]
  },
  {
   "cell_type": "code",
   "execution_count": null,
   "metadata": {},
   "outputs": [],
   "source": []
  }
 ]
}