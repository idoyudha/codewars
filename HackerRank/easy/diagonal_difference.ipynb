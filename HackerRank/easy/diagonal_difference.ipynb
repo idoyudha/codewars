{
 "cells": [
  {
   "cell_type": "code",
   "execution_count": 33,
   "metadata": {},
   "outputs": [],
   "source": [
    "def diagonalDifference(arr):\n",
    "    # Write your code here\n",
    "    left = 0\n",
    "    right = len(arr)\n",
    "    \n",
    "    sumLeft = 0\n",
    "    sumRight = 0\n",
    "    \n",
    "    for i in range(left, right, 1):\n",
    "        sumLeft += arr[i][i]\n",
    "        sumRight += arr[i][right-i-1]\n",
    "\n",
    "    return abs(sumLeft - sumRight)"
   ]
  },
  {
   "cell_type": "code",
   "execution_count": 34,
   "metadata": {},
   "outputs": [
    {
     "data": {
      "text/plain": [
       "15"
      ]
     },
     "execution_count": 34,
     "metadata": {},
     "output_type": "execute_result"
    }
   ],
   "source": [
    "diagonalDifference([[11, 2, 4], [4, 5, 6], [10, 8, -12]])"
   ]
  },
  {
   "cell_type": "code",
   "execution_count": null,
   "metadata": {},
   "outputs": [],
   "source": []
  }
 ],
 "metadata": {
  "kernelspec": {
   "display_name": "Python 3.9.13 64-bit (windows store)",
   "language": "python",
   "name": "python3"
  },
  "language_info": {
   "codemirror_mode": {
    "name": "ipython",
    "version": 3
   },
   "file_extension": ".py",
   "mimetype": "text/x-python",
   "name": "python",
   "nbconvert_exporter": "python",
   "pygments_lexer": "ipython3",
   "version": "3.9.13"
  },
  "orig_nbformat": 4,
  "vscode": {
   "interpreter": {
    "hash": "7a7bf055caa4c3a00d3bca9c51bbb94dac766f951d23e52f43eb38c22e2c3975"
   }
  }
 },
 "nbformat": 4,
 "nbformat_minor": 2
}
