{
 "metadata": {
  "language_info": {
   "codemirror_mode": {
    "name": "ipython",
    "version": 3
   },
   "file_extension": ".py",
   "mimetype": "text/x-python",
   "name": "python",
   "nbconvert_exporter": "python",
   "pygments_lexer": "ipython3",
   "version": "3.8.3"
  },
  "orig_nbformat": 2,
  "kernelspec": {
   "name": "python383jvsc74a57bd09cae76f3f4d5e4ed0213bda28ffb29e1648e7ceafedbd6152aab20f90c8a3d00",
   "display_name": "Python 3.8.3 64-bit ('base': conda)"
  }
 },
 "nbformat": 4,
 "nbformat_minor": 2,
 "cells": [
  {
   "cell_type": "code",
   "execution_count": 1,
   "metadata": {},
   "outputs": [],
   "source": [
    "def dirReduc(arr):\n",
    "    x = 0\n",
    "    y = 0 \n",
    "    x_dir = []\n",
    "    y_dir = []\n",
    "\n",
    "    for direction in arr:\n",
    "        if direction == \"NORTH\":\n",
    "            y += 1\n",
    "        elif direction == \"SOUTH\" :\n",
    "            y -= 1\n",
    "        elif direction == \"EAST\":\n",
    "            x += 1\n",
    "        else:\n",
    "            x -= 1 \n",
    "\n",
    "    print(x, y)\n",
    "\n",
    "    if y > 0:\n",
    "        y_dir.extend([\"NORTH\"] * abs(y))\n",
    "    elif y < 0:\n",
    "        y_dir.extend([\"SOUTH\"] * abs(y))\n",
    "\n",
    "    if x > 0:\n",
    "        x_dir.extend([\"EAST\"] * abs(x))\n",
    "    elif y < 0:\n",
    "        x_dir.extend([\"WEST\"] * abs(x))\n",
    "\n",
    "    return x_dir + y_dir"
   ]
  },
  {
   "cell_type": "code",
   "execution_count": 2,
   "metadata": {},
   "outputs": [],
   "source": [
    "a = [\"NORTH\", \"SOUTH\", \"SOUTH\", \"EAST\", \"WEST\", \"NORTH\", \"WEST\"]\n",
    "b = [\"NORTH\"]"
   ]
  },
  {
   "cell_type": "code",
   "execution_count": 3,
   "metadata": {},
   "outputs": [
    {
     "output_type": "stream",
     "name": "stdout",
     "text": [
      "0 1\n"
     ]
    },
    {
     "output_type": "execute_result",
     "data": {
      "text/plain": [
       "['NORTH']"
      ]
     },
     "metadata": {},
     "execution_count": 3
    }
   ],
   "source": [
    "dirReduc(b)"
   ]
  },
  {
   "cell_type": "code",
   "execution_count": 4,
   "metadata": {},
   "outputs": [
    {
     "output_type": "execute_result",
     "data": {
      "text/plain": [
       "['NORTH', 'NORTH']"
      ]
     },
     "metadata": {},
     "execution_count": 4
    }
   ],
   "source": [
    "[\"NORTH\"] * 2"
   ]
  },
  {
   "cell_type": "code",
   "execution_count": null,
   "metadata": {},
   "outputs": [],
   "source": []
  }
 ]
}